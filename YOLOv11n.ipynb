{
 "cells": [
  {
   "cell_type": "markdown",
   "id": "86a8bea8",
   "metadata": {},
   "source": [
    "# Entrenamiento del modelo YOLOv11n para detección de EPP\n",
    "\n",
    "Este notebook entrena el modelo **YOLOv11n**, una de las versiones más recientes de la familia YOLO desarrollada por *Ultralytics*, optimizada con la arquitectura **GELAN** y funciones **DFL mejoradas**, lo que proporciona un excelente equilibrio entre **velocidad de inferencia y precisión**.\n",
    "\n",
    "El objetivo de este experimento es evaluar el rendimiento del modelo YOLOv11n en la detección de **Equipos de Protección Personal (EPP)** en entornos industriales mineros, considerando las clases:\n",
    "\n",
    "> persona, casco, chaleco, gafas, guantes, mascarilla, zapatos.\n",
    "\n",
    "El entrenamiento se ejecutará utilizando el formato de datos **YOLO**, con imágenes redimensionadas a 640×640 píxeles y entrenamiento durante 100 épocas.  \n",
    "Posteriormente, se exportará el modelo al formato **TensorRT FP16**, para su despliegue en **Jetson Orin**, donde se evaluará su desempeño en tiempo real.\n",
    "\n",
    "**Objetivos específicos:**\n",
    "- Validar estabilidad y precisión en detecciones múltiples.\n",
    "- Medir consumo de GPU y memoria durante inferencia sostenida."
   ]
  },
  {
   "cell_type": "code",
   "execution_count": null,
   "id": "f57484bc",
   "metadata": {},
   "outputs": [],
   "source": [
    "!pip install ultralytics==8.2.100"
   ]
  },
  {
   "cell_type": "code",
   "execution_count": null,
   "id": "001f57b8",
   "metadata": {},
   "outputs": [],
   "source": [
    "from ultralytics import YOLO"
   ]
  },
  {
   "cell_type": "code",
   "execution_count": null,
   "id": "d194536b",
   "metadata": {},
   "outputs": [],
   "source": [
    "# Entrenamiento\n",
    "!yolo detect train model=yolov11n.pt data=data.yaml epochs=100 imgsz=640 batch=16 device=0 name=PPE_yolo11n"
   ]
  },
  {
   "cell_type": "code",
   "execution_count": null,
   "id": "a3f58c5a",
   "metadata": {},
   "outputs": [],
   "source": [
    "# Exportación a TensorRT\n",
    "!yolo export model=runs/detect/PPE_yolo11n/weights/best.pt format=engine device=0 half=True"
   ]
  }
 ],
 "metadata": {
  "kernelspec": {
   "display_name": "ppe-detection",
   "language": "python",
   "name": "python3"
  },
  "language_info": {
   "name": "python",
   "version": "3.10.16"
  }
 },
 "nbformat": 4,
 "nbformat_minor": 5
}
