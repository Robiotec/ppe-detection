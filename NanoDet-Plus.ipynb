{
 "cells": [
  {
   "cell_type": "markdown",
   "id": "17bb80c4",
   "metadata": {},
   "source": [
    "# Entrenamiento del modelo NanoDet-Plus para detección ultrarrápida de EPP\n",
    "\n",
    "Este notebook entrena el modelo **NanoDet-Plus**, una arquitectura ultraligera orientada a entornos *edge* (dispositivos de borde) donde la prioridad es la **baja latencia** y el **consumo mínimo de recursos**.\n",
    "\n",
    "Se evaluará su capacidad de detección de EPP en tiempo real utilizando el mismo conjunto de datos, buscando mantener una precisión aceptable (mAP@0.5 ≈ 0.65–0.70) con velocidades superiores a 120 FPS en Jetson Orin.\n",
    "\n",
    "**Objetivos específicos:**\n",
    "- Validar su utilidad como detector preliminar o sistema de alerta rápida.\n",
    "- Comparar su rendimiento frente a modelos más pesados (YOLOv8n/11n y PP-YOLOE-S)."
   ]
  },
  {
   "cell_type": "code",
   "execution_count": null,
   "id": "0396f36a",
   "metadata": {},
   "outputs": [],
   "source": [
    "!git clone https://github.com/RangiLyu/nanodet.git\n",
    "%cd nanodet"
   ]
  },
  {
   "cell_type": "code",
   "execution_count": null,
   "id": "e5086f2d",
   "metadata": {},
   "outputs": [],
   "source": [
    "!pip install -r requirements.txt"
   ]
  },
  {
   "cell_type": "code",
   "execution_count": null,
   "id": "f776fac8",
   "metadata": {},
   "outputs": [],
   "source": [
    "# Entrenamiento\n",
    "!python tools/train.py config/nanodet-plus-m.yml"
   ]
  },
  {
   "cell_type": "code",
   "execution_count": null,
   "id": "c083f79b",
   "metadata": {},
   "outputs": [],
   "source": [
    "\n",
    "# Exportar a ONNX\n",
    "!python tools/export.py --cfg config/nanodet-plus-m.yml --model workspace/nanodet_plus_m/model_best.pth --format onnx\n",
    "!trtexec --onnx=model.onnx --saveEngine=model.engine --fp16"
   ]
  },
  {
   "cell_type": "code",
   "execution_count": null,
   "id": "e8906662",
   "metadata": {},
   "outputs": [],
   "source": []
  }
 ],
 "metadata": {
  "kernelspec": {
   "display_name": "ppe-detection",
   "language": "python",
   "name": "python3"
  },
  "language_info": {
   "name": "python",
   "version": "3.10.16"
  }
 },
 "nbformat": 4,
 "nbformat_minor": 5
}
