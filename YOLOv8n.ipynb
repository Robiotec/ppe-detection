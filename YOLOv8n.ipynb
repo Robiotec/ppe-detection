{
 "cells": [
  {
   "cell_type": "markdown",
   "id": "86a8bea8",
   "metadata": {},
   "source": [
    "# Entrenamiento del modelo YOLOv8n para validación de EPP\n",
    "\n",
    "Este notebook implementa el entrenamiento del modelo **YOLOv8n**, una versión consolidada y ampliamente utilizada por la comunidad, reconocida por su **robustez, facilidad de entrenamiento y compatibilidad con TensorRT**.\n",
    "\n",
    "El propósito es generar un **modelo base de comparación** frente a YOLOv11n y PP-YOLOE, bajo el mismo conjunto de datos de EPP (casco, chaleco, gafas, guantes, mascarilla, zapatos).\n",
    "\n",
    "El experimento se orienta a obtener un modelo de referencia rápido, con inferencia en tiempo real, que sirva como punto de control en la comparación de rendimiento y precisión.\n",
    "\n",
    "**Objetivos específicos:**\n",
    "- Evaluar desempeño del backbone CSPDarknet frente a GELAN.\n",
    "- Comparar eficiencia energética y latencia con YOLOv11n.\n",
    "- Exportar pesos entrenados a TensorRT FP16 para Jetson Orin."
   ]
  },
  {
   "cell_type": "code",
   "execution_count": 11,
   "id": "12da2ff8",
   "metadata": {},
   "outputs": [
    {
     "name": "stdout",
     "output_type": "stream",
     "text": [
      "Ultralytics 8.3.197 🚀 Python-3.10.16 torch-2.8.0+cu128 CUDA:0 (NVIDIA GeForce RTX 5090, 32101MiB)\n",
      "Setup complete ✅ (32 CPUs, 62.5 GB RAM, 85.1/457.3 GB disk)\n",
      "True\n",
      "2.8.0+cu128\n",
      "NVIDIA GeForce RTX 5090\n"
     ]
    }
   ],
   "source": [
    "from IPython import display\n",
    "\n",
    "display.clear_output()\n",
    "\n",
    "import ultralytics\n",
    "\n",
    "ultralytics.checks()\n",
    "\n",
    "import torch\n",
    "\n",
    "print(torch.cuda.is_available())\n",
    "print(torch.__version__)\n",
    "print(torch.cuda.get_device_name(0))"
   ]
  },
  {
   "cell_type": "code",
   "execution_count": 10,
   "id": "0124e6fa",
   "metadata": {},
   "outputs": [
    {
     "name": "stdout",
     "output_type": "stream",
     "text": [
      "Wed Oct 29 11:38:59 2025       \n",
      "+-----------------------------------------------------------------------------------------+\n",
      "| NVIDIA-SMI 580.82.07              Driver Version: 580.82.07      CUDA Version: 13.0     |\n",
      "+-----------------------------------------+------------------------+----------------------+\n",
      "| GPU  Name                 Persistence-M | Bus-Id          Disp.A | Volatile Uncorr. ECC |\n",
      "| Fan  Temp   Perf          Pwr:Usage/Cap |           Memory-Usage | GPU-Util  Compute M. |\n",
      "|                                         |                        |               MIG M. |\n",
      "|=========================================+========================+======================|\n",
      "|   0  NVIDIA GeForce RTX 5090        On  |   00000000:01:00.0  On |                  N/A |\n",
      "| 31%   47C    P8             44W /  600W |     775MiB /  32607MiB |      7%      Default |\n",
      "|                                         |                        |                  N/A |\n",
      "+-----------------------------------------+------------------------+----------------------+\n",
      "\n",
      "+-----------------------------------------------------------------------------------------+\n",
      "| Processes:                                                                              |\n",
      "|  GPU   GI   CI              PID   Type   Process name                        GPU Memory |\n",
      "|        ID   ID                                                               Usage      |\n",
      "|=========================================================================================|\n",
      "|    0   N/A  N/A            2774      G   /usr/lib/xorg/Xorg                      198MiB |\n",
      "|    0   N/A  N/A            3380      G   /usr/bin/gnome-shell                     82MiB |\n",
      "|    0   N/A  N/A            4138      G   ...exec/xdg-desktop-portal-gnome          9MiB |\n",
      "|    0   N/A  N/A         1138893      G   /usr/share/code/code                    195MiB |\n",
      "|    0   N/A  N/A         1335200      G   .../7177/usr/lib/firefox/firefox        193MiB |\n",
      "+-----------------------------------------------------------------------------------------+\n"
     ]
    }
   ],
   "source": [
    "!nvidia-smi"
   ]
  },
  {
   "cell_type": "code",
   "execution_count": 4,
   "id": "415a9186",
   "metadata": {},
   "outputs": [],
   "source": [
    "from ultralytics import YOLO"
   ]
  },
  {
   "cell_type": "code",
   "execution_count": 1,
   "id": "ff148f0c",
   "metadata": {},
   "outputs": [
    {
     "name": "stdout",
     "output_type": "stream",
     "text": [
      "New https://pypi.org/project/ultralytics/8.3.222 available 😃 Update with 'pip install -U ultralytics'\n",
      "Ultralytics 8.3.197 🚀 Python-3.10.16 torch-2.8.0+cu128 CUDA:0 (NVIDIA GeForce RTX 5090, 32101MiB)\n",
      "\u001b[34m\u001b[1mengine/trainer: \u001b[0magnostic_nms=False, amp=True, augment=False, auto_augment=randaugment, batch=64, bgr=0.0, box=7.5, cache=False, cfg=None, classes=None, close_mosaic=10, cls=0.5, compile=False, conf=None, copy_paste=0.0, copy_paste_mode=flip, cos_lr=False, cutmix=0.0, data=/home/ose/Documents/ppe-detection/ppe.yaml, degrees=0.0, deterministic=True, device=0, dfl=1.5, dnn=False, dropout=0.0, dynamic=False, embed=None, epochs=100, erasing=0.4, exist_ok=False, fliplr=0.5, flipud=0.0, format=torchscript, fraction=1.0, freeze=None, half=False, hsv_h=0.015, hsv_s=0.7, hsv_v=0.4, imgsz=640, int8=False, iou=0.7, keras=False, kobj=1.0, line_width=None, lr0=0.01, lrf=0.01, mask_ratio=4, max_det=300, mixup=0.0, mode=train, model=/home/ose/Documents/ppe-detection/src/yolov8n.pt, momentum=0.937, mosaic=1.0, multi_scale=False, name=PPE_yolo8n2, nbs=64, nms=False, opset=None, optimize=False, optimizer=auto, overlap_mask=True, patience=30, perspective=0.0, plots=True, pose=12.0, pretrained=True, profile=False, project=None, rect=False, resume=False, retina_masks=False, save=True, save_conf=False, save_crop=False, save_dir=/home/ose/Documents/OSE/runs/detect/PPE_yolo8n2, save_frames=False, save_json=False, save_period=10, save_txt=False, scale=0.5, seed=0, shear=0.0, show=False, show_boxes=True, show_conf=True, show_labels=True, simplify=True, single_cls=False, source=None, split=val, stream_buffer=False, task=detect, time=None, tracker=botsort.yaml, translate=0.1, val=True, verbose=True, vid_stride=1, visualize=False, warmup_bias_lr=0.1, warmup_epochs=3, warmup_momentum=0.8, weight_decay=0.0005, workers=8, workspace=None\n",
      "Overriding model.yaml nc=80 with nc=7\n",
      "\n",
      "                   from  n    params  module                                       arguments                     \n",
      "  0                  -1  1       464  ultralytics.nn.modules.conv.Conv             [3, 16, 3, 2]                 \n",
      "  1                  -1  1      4672  ultralytics.nn.modules.conv.Conv             [16, 32, 3, 2]                \n",
      "  2                  -1  1      7360  ultralytics.nn.modules.block.C2f             [32, 32, 1, True]             \n",
      "  3                  -1  1     18560  ultralytics.nn.modules.conv.Conv             [32, 64, 3, 2]                \n",
      "  4                  -1  2     49664  ultralytics.nn.modules.block.C2f             [64, 64, 2, True]             \n",
      "  5                  -1  1     73984  ultralytics.nn.modules.conv.Conv             [64, 128, 3, 2]               \n",
      "  6                  -1  2    197632  ultralytics.nn.modules.block.C2f             [128, 128, 2, True]           \n",
      "  7                  -1  1    295424  ultralytics.nn.modules.conv.Conv             [128, 256, 3, 2]              \n",
      "  8                  -1  1    460288  ultralytics.nn.modules.block.C2f             [256, 256, 1, True]           \n",
      "  9                  -1  1    164608  ultralytics.nn.modules.block.SPPF            [256, 256, 5]                 \n",
      " 10                  -1  1         0  torch.nn.modules.upsampling.Upsample         [None, 2, 'nearest']          \n",
      " 11             [-1, 6]  1         0  ultralytics.nn.modules.conv.Concat           [1]                           \n",
      " 12                  -1  1    148224  ultralytics.nn.modules.block.C2f             [384, 128, 1]                 \n",
      " 13                  -1  1         0  torch.nn.modules.upsampling.Upsample         [None, 2, 'nearest']          \n",
      " 14             [-1, 4]  1         0  ultralytics.nn.modules.conv.Concat           [1]                           \n",
      " 15                  -1  1     37248  ultralytics.nn.modules.block.C2f             [192, 64, 1]                  \n",
      " 16                  -1  1     36992  ultralytics.nn.modules.conv.Conv             [64, 64, 3, 2]                \n",
      " 17            [-1, 12]  1         0  ultralytics.nn.modules.conv.Concat           [1]                           \n",
      " 18                  -1  1    123648  ultralytics.nn.modules.block.C2f             [192, 128, 1]                 \n",
      " 19                  -1  1    147712  ultralytics.nn.modules.conv.Conv             [128, 128, 3, 2]              \n",
      " 20             [-1, 9]  1         0  ultralytics.nn.modules.conv.Concat           [1]                           \n",
      " 21                  -1  1    493056  ultralytics.nn.modules.block.C2f             [384, 256, 1]                 \n",
      " 22        [15, 18, 21]  1    752677  ultralytics.nn.modules.head.Detect           [7, [64, 128, 256]]           \n",
      "Model summary: 129 layers, 3,012,213 parameters, 3,012,197 gradients, 8.2 GFLOPs\n",
      "\n",
      "Transferred 319/355 items from pretrained weights\n",
      "Freezing layer 'model.22.dfl.conv.weight'\n",
      "\u001b[34m\u001b[1mAMP: \u001b[0mrunning Automatic Mixed Precision (AMP) checks...\n",
      "\u001b[34m\u001b[1mAMP: \u001b[0mchecks passed ✅\n",
      "\u001b[34m\u001b[1mtrain: \u001b[0mFast image access ✅ (ping: 0.0±0.0 ms, read: 1153.0±204.7 MB/s, size: 1951.4 KB)\n",
      "\u001b[K\u001b[34m\u001b[1mtrain: \u001b[0mScanning /home/ose/Documents/ppe-detection/train/labels.cache... 6208 images, 275 backgrounds, 0 corrupt: 100% ━━━━━━━━━━━━ 6483/6483 191.5Mit/s 0.0s\n",
      "\u001b[34m\u001b[1mval: \u001b[0mFast image access ✅ (ping: 0.0±0.0 ms, read: 1015.4±252.6 MB/s, size: 1200.5 KB)\n",
      "\u001b[K\u001b[34m\u001b[1mval: \u001b[0mScanning /home/ose/Documents/ppe-detection/val/labels.cache... 1544 images, 72 backgrounds, 0 corrupt: 100% ━━━━━━━━━━━━ 1616/1616 25.5Mit/s 0.0ss\n",
      "Plotting labels to /home/ose/Documents/OSE/runs/detect/PPE_yolo8n2/labels.jpg... \n",
      "\u001b[34m\u001b[1moptimizer:\u001b[0m 'optimizer=auto' found, ignoring 'lr0=0.01' and 'momentum=0.937' and determining best 'optimizer', 'lr0' and 'momentum' automatically... \n",
      "\u001b[34m\u001b[1moptimizer:\u001b[0m SGD(lr=0.01, momentum=0.9) with parameter groups 57 weight(decay=0.0), 64 weight(decay=0.0005), 63 bias(decay=0.0)\n",
      "Image sizes 640 train, 640 val\n",
      "Using 8 dataloader workers\n",
      "Logging results to \u001b[1m/home/ose/Documents/OSE/runs/detect/PPE_yolo8n2\u001b[0m\n",
      "Starting training for 100 epochs...\n",
      "\n",
      "      Epoch    GPU_mem   box_loss   cls_loss   dfl_loss  Instances       Size\n",
      "\u001b[K      1/100      7.97G      1.093      3.661      1.293        363        640: 24% ━━╸───────── 24/102 3.4it/s 1:01<23.2ss\n",
      "Traceback (most recent call last):\n",
      "  File \"/home/ose/Documents/ppe-detection/.venv/bin/yolo\", line 10, in <module>\n",
      "    sys.exit(entrypoint())\n",
      "  File \"/home/ose/Documents/ppe-detection/.venv/lib/python3.10/site-packages/ultralytics/cfg/__init__.py\", line 991, in entrypoint\n",
      "    getattr(model, mode)(**overrides)  # default args from model\n",
      "  File \"/home/ose/Documents/ppe-detection/.venv/lib/python3.10/site-packages/ultralytics/engine/model.py\", line 800, in train\n",
      "    self.trainer.train()\n",
      "  File \"/home/ose/Documents/ppe-detection/.venv/lib/python3.10/site-packages/ultralytics/engine/trainer.py\", line 230, in train\n",
      "    self._do_train(world_size)\n",
      "  File \"/home/ose/Documents/ppe-detection/.venv/lib/python3.10/site-packages/ultralytics/engine/trainer.py\", line 397, in _do_train\n",
      "    for i, batch in pbar:\n",
      "  File \"/home/ose/Documents/ppe-detection/.venv/lib/python3.10/site-packages/ultralytics/utils/tqdm.py\", line 347, in __iter__\n",
      "    for item in self.iterable:\n",
      "  File \"/home/ose/Documents/ppe-detection/.venv/lib/python3.10/site-packages/ultralytics/data/build.py\", line 74, in __iter__\n",
      "    yield next(self.iterator)\n",
      "  File \"/home/ose/Documents/ppe-detection/.venv/lib/python3.10/site-packages/torch/utils/data/dataloader.py\", line 734, in __next__\n",
      "    data = self._next_data()\n",
      "  File \"/home/ose/Documents/ppe-detection/.venv/lib/python3.10/site-packages/torch/utils/data/dataloader.py\", line 1492, in _next_data\n",
      "    idx, data = self._get_data()\n",
      "  File \"/home/ose/Documents/ppe-detection/.venv/lib/python3.10/site-packages/torch/utils/data/dataloader.py\", line 1444, in _get_data\n",
      "    success, data = self._try_get_data()\n",
      "  File \"/home/ose/Documents/ppe-detection/.venv/lib/python3.10/site-packages/torch/utils/data/dataloader.py\", line 1285, in _try_get_data\n",
      "    data = self._data_queue.get(timeout=timeout)\n",
      "  File \"/home/ose/.local/share/uv/python/cpython-3.10.16-linux-x86_64-gnu/lib/python3.10/queue.py\", line 180, in get\n",
      "    self.not_empty.wait(remaining)\n",
      "  File \"/home/ose/.local/share/uv/python/cpython-3.10.16-linux-x86_64-gnu/lib/python3.10/threading.py\", line 324, in wait\n",
      "    gotit = waiter.acquire(True, timeout)\n",
      "KeyboardInterrupt\n",
      "^C\n",
      "Exception ignored in atexit callback: <function _exit_function at 0x7f18e27b8ca0>\n",
      "Traceback (most recent call last):\n",
      "  File \"/home/ose/.local/share/uv/python/cpython-3.10.16-linux-x86_64-gnu/lib/python3.10/multiprocessing/util.py\", line 357, in _exit_function\n",
      "    p.join()\n",
      "  File \"/home/ose/.local/share/uv/python/cpython-3.10.16-linux-x86_64-gnu/lib/python3.10/multiprocessing/process.py\", line 149, in join\n",
      "    res = self._popen.wait(timeout)\n",
      "  File \"/home/ose/.local/share/uv/python/cpython-3.10.16-linux-x86_64-gnu/lib/python3.10/multiprocessing/popen_fork.py\", line 43, in wait\n",
      "    return self.poll(os.WNOHANG if timeout == 0.0 else 0)\n",
      "  File \"/home/ose/.local/share/uv/python/cpython-3.10.16-linux-x86_64-gnu/lib/python3.10/multiprocessing/popen_fork.py\", line 27, in poll\n",
      "    pid, sts = os.waitpid(self.pid, flag)\n",
      "KeyboardInterrupt: \n"
     ]
    }
   ],
   "source": [
    "# Entrenamiento\n",
    "!yolo detect train model=/home/ose/Documents/ppe-detection/src/yolov8n.pt data=/home/ose/Documents/ppe-detection/ppe.yaml epochs=100 batch=64 plots=True device=0 name=PPE_yolo8n patience=30 warmup_epochs=3 save_period=10"
   ]
  },
  {
   "cell_type": "code",
   "execution_count": null,
   "id": "4ffa905d",
   "metadata": {},
   "outputs": [],
   "source": [
    "# Exportación a TensorRT\n",
    "!yolo export model=runs/detect/PPE_yolo8n/weights/best.pt format=engine device=0 half=True"
   ]
  }
 ],
 "metadata": {
  "kernelspec": {
   "display_name": "ppe-detection",
   "language": "python",
   "name": "python3"
  },
  "language_info": {
   "codemirror_mode": {
    "name": "ipython",
    "version": 3
   },
   "file_extension": ".py",
   "mimetype": "text/x-python",
   "name": "python",
   "nbconvert_exporter": "python",
   "pygments_lexer": "ipython3",
   "version": "3.10.16"
  }
 },
 "nbformat": 4,
 "nbformat_minor": 5
}
