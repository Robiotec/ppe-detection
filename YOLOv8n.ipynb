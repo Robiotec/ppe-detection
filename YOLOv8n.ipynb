{
 "cells": [
  {
   "cell_type": "markdown",
   "id": "86a8bea8",
   "metadata": {},
   "source": [
    "# Entrenamiento del modelo YOLOv8n para validación de EPP\n",
    "\n",
    "Este notebook implementa el entrenamiento del modelo **YOLOv8n**, una versión consolidada y ampliamente utilizada por la comunidad, reconocida por su **robustez, facilidad de entrenamiento y compatibilidad con TensorRT**.\n",
    "\n",
    "El propósito es generar un **modelo base de comparación** frente a YOLOv11n y PP-YOLOE, bajo el mismo conjunto de datos de EPP (casco, chaleco, gafas, guantes, mascarilla, zapatos).\n",
    "\n",
    "El experimento se orienta a obtener un modelo de referencia rápido, con inferencia en tiempo real, que sirva como punto de control en la comparación de rendimiento y precisión.\n",
    "\n",
    "**Objetivos específicos:**\n",
    "- Evaluar desempeño del backbone CSPDarknet frente a GELAN.\n",
    "- Comparar eficiencia energética y latencia con YOLOv11n.\n",
    "- Exportar pesos entrenados a TensorRT FP16 para Jetson Orin."
   ]
  },
  {
   "cell_type": "code",
   "execution_count": 1,
   "id": "415a9186",
   "metadata": {},
   "outputs": [],
   "source": [
    "from ultralytics import YOLO"
   ]
  },
  {
   "cell_type": "code",
   "execution_count": null,
   "id": "ff148f0c",
   "metadata": {},
   "outputs": [],
   "source": [
    "# Entrenamiento\n",
    "!yolo detect train model=/home/robiotec/Documents/ppe-detection/src/yolo8n.pt data=/home/robiotec/Documents/ppe-detection/ppe.yaml epochs=100 imgsz=640 batch=16 device=0 name=PPE_yolo8n"
   ]
  },
  {
   "cell_type": "code",
   "execution_count": null,
   "id": "4ffa905d",
   "metadata": {},
   "outputs": [],
   "source": [
    "# Exportación a TensorRT\n",
    "!yolo export model=runs/detect/PPE_yolo8n/weights/best.pt format=engine device=0 half=True"
   ]
  }
 ],
 "metadata": {
  "kernelspec": {
   "display_name": "ppe-detection",
   "language": "python",
   "name": "python3"
  },
  "language_info": {
   "codemirror_mode": {
    "name": "ipython",
    "version": 3
   },
   "file_extension": ".py",
   "mimetype": "text/x-python",
   "name": "python",
   "nbconvert_exporter": "python",
   "pygments_lexer": "ipython3",
   "version": "3.10.19"
  }
 },
 "nbformat": 4,
 "nbformat_minor": 5
}
