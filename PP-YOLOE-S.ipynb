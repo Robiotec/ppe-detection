{
 "cells": [
  {
   "cell_type": "markdown",
   "id": "86a8bea8",
   "metadata": {},
   "source": [
    "# Entrenamiento del modelo PP-YOLOE-S para detección avanzada de EPP\n",
    "\n",
    "En este notebook se entrena **PP-YOLOE-S**, un modelo de la familia *PaddlePaddle* reconocido por su alta precisión y su estructura **anchor-free** basada en *E-ELAN* y *Varifocal Loss*.  \n",
    "Es una arquitectura moderna que busca maximizar la precisión (mAP@0.5:0.95) sin sacrificar excesivamente la velocidad.\n",
    "\n",
    "Este entrenamiento utiliza el mismo dataset de detección de EPP, en formato **COCO**, con el fin de comparar los resultados con las arquitecturas YOLOv8n y YOLOv11n bajo condiciones controladas.\n",
    "\n",
    "**Objetivos específicos:**\n",
    "- Obtener un mAP@0.5 ≥ 0.80 manteniendo inferencia ≥ 75 FPS.\n",
    "- Analizar robustez ante variaciones de iluminación y ángulo.\n",
    "- Exportar modelo a formato **ONNX y TensorRT** para inferencia acelerada en Jetson Orin."
   ]
  },
  {
   "cell_type": "code",
   "execution_count": null,
   "id": "f3cfacf0",
   "metadata": {},
   "outputs": [],
   "source": [
    "!git clone https://github.com/PaddlePaddle/PaddleDetection.git\n",
    "%cd PaddleDetection"
   ]
  },
  {
   "cell_type": "code",
   "execution_count": null,
   "id": "7b3a9012",
   "metadata": {},
   "outputs": [],
   "source": [
    "!pip install -r requirements.txt"
   ]
  },
  {
   "cell_type": "code",
   "execution_count": null,
   "id": "94d4db0b",
   "metadata": {},
   "outputs": [],
   "source": [
    "# Entrenamiento\n",
    "!python tools/train.py -c configs/ppyoloe/ppyoloe_s_300e_coco.yml \\\n",
    "  -o use_gpu=true log_iter=50 snapshot_epoch=1 \\\n",
    "  dataset_dir=../datasets/PPE"
   ]
  },
  {
   "cell_type": "code",
   "execution_count": null,
   "id": "76bdce62",
   "metadata": {},
   "outputs": [],
   "source": [
    "# Exportación a ONNX\n",
    "!paddle2onnx --model_dir=output/ppyoloe_s_300e_coco --save_file=ppe_yoloe.onnx\n",
    "!trtexec --onnx=ppe_yoloe.onnx --saveEngine=ppe_yoloe.engine --fp16\n"
   ]
  }
 ],
 "metadata": {
  "kernelspec": {
   "display_name": "ppe-detection",
   "language": "python",
   "name": "python3"
  },
  "language_info": {
   "name": "python",
   "version": "3.10.16"
  }
 },
 "nbformat": 4,
 "nbformat_minor": 5
}
